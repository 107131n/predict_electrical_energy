{
 "cells": [
  {
   "cell_type": "code",
   "execution_count": 1,
   "metadata": {},
   "outputs": [
    {
     "data": {
      "text/plain": [
       "False"
      ]
     },
     "execution_count": 1,
     "metadata": {},
     "output_type": "execute_result"
    }
   ],
   "source": [
    "# 필요 라이브러리 로드\n",
    "from matplotlib import font_manager, rc\n",
    "import matplotlib\n",
    "import matplotlib.pyplot as plt\n",
    "import seaborn as sns\n",
    "import numpy as np\n",
    "import pandas as pd\n",
    "import platform\n",
    "\n",
    "#그래프에서 마이너스 기호가 표시되게 하는 설정입니다.\n",
    "plt.rcParams['axes.unicode_minus'] == False"
   ]
  },
  {
   "cell_type": "code",
   "execution_count": 2,
   "metadata": {},
   "outputs": [
    {
     "data": {
      "text/html": [
       "<div>\n",
       "<style scoped>\n",
       "    .dataframe tbody tr th:only-of-type {\n",
       "        vertical-align: middle;\n",
       "    }\n",
       "\n",
       "    .dataframe tbody tr th {\n",
       "        vertical-align: top;\n",
       "    }\n",
       "\n",
       "    .dataframe thead th {\n",
       "        text-align: right;\n",
       "    }\n",
       "</style>\n",
       "<table border=\"1\" class=\"dataframe\">\n",
       "  <thead>\n",
       "    <tr style=\"text-align: right;\">\n",
       "      <th></th>\n",
       "      <th>Unnamed: 0.1</th>\n",
       "      <th>Unnamed: 0</th>\n",
       "      <th>0</th>\n",
       "      <th>1</th>\n",
       "      <th>2</th>\n",
       "    </tr>\n",
       "  </thead>\n",
       "  <tbody>\n",
       "    <tr>\n",
       "      <th>0</th>\n",
       "      <td>0</td>\n",
       "      <td>0</td>\n",
       "      <td>강원도 삼척시</td>\n",
       "      <td>2022.03.05 00:30 / 2022.03.05 01:23</td>\n",
       "      <td>1</td>\n",
       "    </tr>\n",
       "    <tr>\n",
       "      <th>1</th>\n",
       "      <td>1</td>\n",
       "      <td>1</td>\n",
       "      <td>강원도 삼척시</td>\n",
       "      <td>2022.03.04 17:43 / 2022.03.05 01:21</td>\n",
       "      <td>14</td>\n",
       "    </tr>\n",
       "  </tbody>\n",
       "</table>\n",
       "</div>"
      ],
      "text/plain": [
       "   Unnamed: 0.1  Unnamed: 0        0                                    1   2\n",
       "0             0           0  강원도 삼척시  2022.03.05 00:30 / 2022.03.05 01:23   1\n",
       "1             1           1  강원도 삼척시  2022.03.04 17:43 / 2022.03.05 01:21  14"
      ]
     },
     "execution_count": 2,
     "metadata": {},
     "output_type": "execute_result"
    }
   ],
   "source": [
    "power_hour_df  = pd.read_csv('blakcout.csv', encoding='cp949')\n",
    "power_hour_df.head(2)"
   ]
  },
  {
   "cell_type": "code",
   "execution_count": 13,
   "metadata": {},
   "outputs": [],
   "source": [
    "power_hour_df['시작시간'] = power_hour_df['1'].str.split('/').str[0]\n",
    "power_hour_df['종료시간'] = power_hour_df['1'].str.split('/').str[1]\n"
   ]
  },
  {
   "cell_type": "code",
   "execution_count": 14,
   "metadata": {},
   "outputs": [
    {
     "data": {
      "text/html": [
       "<div>\n",
       "<style scoped>\n",
       "    .dataframe tbody tr th:only-of-type {\n",
       "        vertical-align: middle;\n",
       "    }\n",
       "\n",
       "    .dataframe tbody tr th {\n",
       "        vertical-align: top;\n",
       "    }\n",
       "\n",
       "    .dataframe thead th {\n",
       "        text-align: right;\n",
       "    }\n",
       "</style>\n",
       "<table border=\"1\" class=\"dataframe\">\n",
       "  <thead>\n",
       "    <tr style=\"text-align: right;\">\n",
       "      <th></th>\n",
       "      <th>Unnamed: 0.1</th>\n",
       "      <th>Unnamed: 0</th>\n",
       "      <th>0</th>\n",
       "      <th>1</th>\n",
       "      <th>2</th>\n",
       "      <th>시작시간</th>\n",
       "      <th>종료시간</th>\n",
       "    </tr>\n",
       "  </thead>\n",
       "  <tbody>\n",
       "    <tr>\n",
       "      <th>0</th>\n",
       "      <td>0</td>\n",
       "      <td>0</td>\n",
       "      <td>강원도 삼척시</td>\n",
       "      <td>2022.03.05 00:30 / 2022.03.05 01:23</td>\n",
       "      <td>1</td>\n",
       "      <td>2022.03.05 00:30</td>\n",
       "      <td>2022.03.05 01:23</td>\n",
       "    </tr>\n",
       "    <tr>\n",
       "      <th>1</th>\n",
       "      <td>1</td>\n",
       "      <td>1</td>\n",
       "      <td>강원도 삼척시</td>\n",
       "      <td>2022.03.04 17:43 / 2022.03.05 01:21</td>\n",
       "      <td>14</td>\n",
       "      <td>2022.03.04 17:43</td>\n",
       "      <td>2022.03.05 01:21</td>\n",
       "    </tr>\n",
       "  </tbody>\n",
       "</table>\n",
       "</div>"
      ],
      "text/plain": [
       "   Unnamed: 0.1  Unnamed: 0        0                                    1   2  \\\n",
       "0             0           0  강원도 삼척시  2022.03.05 00:30 / 2022.03.05 01:23   1   \n",
       "1             1           1  강원도 삼척시  2022.03.04 17:43 / 2022.03.05 01:21  14   \n",
       "\n",
       "                시작시간               종료시간  \n",
       "0  2022.03.05 00:30    2022.03.05 01:23  \n",
       "1  2022.03.04 17:43    2022.03.05 01:21  "
      ]
     },
     "execution_count": 14,
     "metadata": {},
     "output_type": "execute_result"
    }
   ],
   "source": [
    "power_hour_df.head(2)"
   ]
  },
  {
   "cell_type": "markdown",
   "metadata": {},
   "source": []
  },
  {
   "cell_type": "code",
   "execution_count": 15,
   "metadata": {},
   "outputs": [],
   "source": [
    "power_hour_df.rename(columns = {'2' : '피해_가구수', '0' : '정전피해_지역'}, inplace = True)"
   ]
  },
  {
   "cell_type": "code",
   "execution_count": 16,
   "metadata": {},
   "outputs": [
    {
     "data": {
      "text/html": [
       "<div>\n",
       "<style scoped>\n",
       "    .dataframe tbody tr th:only-of-type {\n",
       "        vertical-align: middle;\n",
       "    }\n",
       "\n",
       "    .dataframe tbody tr th {\n",
       "        vertical-align: top;\n",
       "    }\n",
       "\n",
       "    .dataframe thead th {\n",
       "        text-align: right;\n",
       "    }\n",
       "</style>\n",
       "<table border=\"1\" class=\"dataframe\">\n",
       "  <thead>\n",
       "    <tr style=\"text-align: right;\">\n",
       "      <th></th>\n",
       "      <th>Unnamed: 0.1</th>\n",
       "      <th>Unnamed: 0</th>\n",
       "      <th>정전피해_지역</th>\n",
       "      <th>1</th>\n",
       "      <th>피해_가구수</th>\n",
       "      <th>시작시간</th>\n",
       "      <th>종료시간</th>\n",
       "    </tr>\n",
       "  </thead>\n",
       "  <tbody>\n",
       "    <tr>\n",
       "      <th>0</th>\n",
       "      <td>0</td>\n",
       "      <td>0</td>\n",
       "      <td>강원도 삼척시</td>\n",
       "      <td>2022.03.05 00:30 / 2022.03.05 01:23</td>\n",
       "      <td>1</td>\n",
       "      <td>2022.03.05 00:30</td>\n",
       "      <td>2022.03.05 01:23</td>\n",
       "    </tr>\n",
       "    <tr>\n",
       "      <th>1</th>\n",
       "      <td>1</td>\n",
       "      <td>1</td>\n",
       "      <td>강원도 삼척시</td>\n",
       "      <td>2022.03.04 17:43 / 2022.03.05 01:21</td>\n",
       "      <td>14</td>\n",
       "      <td>2022.03.04 17:43</td>\n",
       "      <td>2022.03.05 01:21</td>\n",
       "    </tr>\n",
       "  </tbody>\n",
       "</table>\n",
       "</div>"
      ],
      "text/plain": [
       "   Unnamed: 0.1  Unnamed: 0  정전피해_지역                                    1  \\\n",
       "0             0           0  강원도 삼척시  2022.03.05 00:30 / 2022.03.05 01:23   \n",
       "1             1           1  강원도 삼척시  2022.03.04 17:43 / 2022.03.05 01:21   \n",
       "\n",
       "   피해_가구수               시작시간               종료시간  \n",
       "0       1  2022.03.05 00:30    2022.03.05 01:23  \n",
       "1      14  2022.03.04 17:43    2022.03.05 01:21  "
      ]
     },
     "execution_count": 16,
     "metadata": {},
     "output_type": "execute_result"
    }
   ],
   "source": [
    "power_hour_df.head(2)"
   ]
  },
  {
   "cell_type": "code",
   "execution_count": 19,
   "metadata": {},
   "outputs": [],
   "source": [
    "power_hour_df.drop(columns=['Unnamed: 0.1','Unnamed: 0','1'], inplace = True)"
   ]
  },
  {
   "cell_type": "code",
   "execution_count": 20,
   "metadata": {},
   "outputs": [
    {
     "data": {
      "text/html": [
       "<div>\n",
       "<style scoped>\n",
       "    .dataframe tbody tr th:only-of-type {\n",
       "        vertical-align: middle;\n",
       "    }\n",
       "\n",
       "    .dataframe tbody tr th {\n",
       "        vertical-align: top;\n",
       "    }\n",
       "\n",
       "    .dataframe thead th {\n",
       "        text-align: right;\n",
       "    }\n",
       "</style>\n",
       "<table border=\"1\" class=\"dataframe\">\n",
       "  <thead>\n",
       "    <tr style=\"text-align: right;\">\n",
       "      <th></th>\n",
       "      <th>정전피해_지역</th>\n",
       "      <th>피해_가구수</th>\n",
       "      <th>시작시간</th>\n",
       "      <th>종료시간</th>\n",
       "    </tr>\n",
       "  </thead>\n",
       "  <tbody>\n",
       "    <tr>\n",
       "      <th>0</th>\n",
       "      <td>강원도 삼척시</td>\n",
       "      <td>1</td>\n",
       "      <td>2022.03.05 00:30</td>\n",
       "      <td>2022.03.05 01:23</td>\n",
       "    </tr>\n",
       "    <tr>\n",
       "      <th>1</th>\n",
       "      <td>강원도 삼척시</td>\n",
       "      <td>14</td>\n",
       "      <td>2022.03.04 17:43</td>\n",
       "      <td>2022.03.05 01:21</td>\n",
       "    </tr>\n",
       "  </tbody>\n",
       "</table>\n",
       "</div>"
      ],
      "text/plain": [
       "   정전피해_지역  피해_가구수               시작시간               종료시간\n",
       "0  강원도 삼척시       1  2022.03.05 00:30    2022.03.05 01:23\n",
       "1  강원도 삼척시      14  2022.03.04 17:43    2022.03.05 01:21"
      ]
     },
     "execution_count": 20,
     "metadata": {},
     "output_type": "execute_result"
    }
   ],
   "source": [
    "power_hour_df.head(2)"
   ]
  },
  {
   "cell_type": "code",
   "execution_count": 21,
   "metadata": {},
   "outputs": [],
   "source": [
    "power_hour_df.to_csv('blackout.csv', encoding='cp949')"
   ]
  },
  {
   "cell_type": "code",
   "execution_count": null,
   "metadata": {},
   "outputs": [],
   "source": []
  }
 ],
 "metadata": {
  "kernelspec": {
   "display_name": "base",
   "language": "python",
   "name": "python3"
  },
  "language_info": {
   "codemirror_mode": {
    "name": "ipython",
    "version": 3
   },
   "file_extension": ".py",
   "mimetype": "text/x-python",
   "name": "python",
   "nbconvert_exporter": "python",
   "pygments_lexer": "ipython3",
   "version": "3.9.13"
  },
  "orig_nbformat": 4
 },
 "nbformat": 4,
 "nbformat_minor": 2
}
