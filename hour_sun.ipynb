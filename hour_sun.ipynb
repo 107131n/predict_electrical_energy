{
 "cells": [
  {
   "cell_type": "code",
   "execution_count": 1,
   "metadata": {},
   "outputs": [
    {
     "data": {
      "text/plain": [
       "False"
      ]
     },
     "execution_count": 1,
     "metadata": {},
     "output_type": "execute_result"
    }
   ],
   "source": [
    "# 필요 라이브러리 로드\n",
    "from matplotlib import font_manager, rc\n",
    "import matplotlib\n",
    "import matplotlib.pyplot as plt\n",
    "import seaborn as sns\n",
    "import numpy as np\n",
    "import pandas as pd\n",
    "import platform\n",
    "\n",
    "# if platform.system() == 'Windows':\n",
    "    \n",
    "# # 윈도우인 경우 맑은 고딕 폰트 이용\n",
    "#     font_name = font_manager.FontProperties(fname='c:/Windows/Fonts/malgun.ttf')\n",
    "#     rc('font', family=font_name, size= 8)\n",
    "# # Mac 인 경우\n",
    "    #rc('font', family='AppleGothic', size= 8)\n",
    "\n",
    "#그래프에서 마이너스 기호가 표시되게 하는 설정입니다.\n",
    "plt.rcParams['axes.unicode_minus'] == False"
   ]
  },
  {
   "cell_type": "code",
   "execution_count": 6,
   "metadata": {},
   "outputs": [
    {
     "data": {
      "text/html": [
       "<div>\n",
       "<style scoped>\n",
       "    .dataframe tbody tr th:only-of-type {\n",
       "        vertical-align: middle;\n",
       "    }\n",
       "\n",
       "    .dataframe tbody tr th {\n",
       "        vertical-align: top;\n",
       "    }\n",
       "\n",
       "    .dataframe thead th {\n",
       "        text-align: right;\n",
       "    }\n",
       "</style>\n",
       "<table border=\"1\" class=\"dataframe\">\n",
       "  <thead>\n",
       "    <tr style=\"text-align: right;\">\n",
       "      <th></th>\n",
       "      <th>거래일자</th>\n",
       "      <th>거래시간</th>\n",
       "      <th>지역</th>\n",
       "      <th>발전량</th>\n",
       "    </tr>\n",
       "  </thead>\n",
       "  <tbody>\n",
       "    <tr>\n",
       "      <th>0</th>\n",
       "      <td>2018-01-01</td>\n",
       "      <td>1</td>\n",
       "      <td>강원도</td>\n",
       "      <td>13.68</td>\n",
       "    </tr>\n",
       "    <tr>\n",
       "      <th>1</th>\n",
       "      <td>2018-01-01</td>\n",
       "      <td>2</td>\n",
       "      <td>강원도</td>\n",
       "      <td>0.00</td>\n",
       "    </tr>\n",
       "  </tbody>\n",
       "</table>\n",
       "</div>"
      ],
      "text/plain": [
       "         거래일자  거래시간   지역   발전량 \n",
       "0  2018-01-01     1  강원도  13.68\n",
       "1  2018-01-01     2  강원도   0.00"
      ]
     },
     "execution_count": 6,
     "metadata": {},
     "output_type": "execute_result"
    }
   ],
   "source": [
    "power_df  = pd.read_csv('data/한국전력거래소_지역별 시간별 태양광 발전량_20211231.csv', encoding='cp949')\n",
    "power_df.head(2)"
   ]
  },
  {
   "cell_type": "code",
   "execution_count": 7,
   "metadata": {},
   "outputs": [
    {
     "name": "stdout",
     "output_type": "stream",
     "text": [
      "<class 'pandas.core.frame.DataFrame'>\n",
      "RangeIndex: 596088 entries, 0 to 596087\n",
      "Data columns (total 4 columns):\n",
      " #   Column  Non-Null Count   Dtype  \n",
      "---  ------  --------------   -----  \n",
      " 0   거래일자    596088 non-null  object \n",
      " 1   거래시간    596088 non-null  int64  \n",
      " 2   지역      596088 non-null  object \n",
      " 3   발전량     596088 non-null  float64\n",
      "dtypes: float64(1), int64(1), object(2)\n",
      "memory usage: 18.2+ MB\n"
     ]
    }
   ],
   "source": [
    "power_df.info()"
   ]
  },
  {
   "cell_type": "code",
   "execution_count": 11,
   "metadata": {},
   "outputs": [
    {
     "data": {
      "text/plain": [
       "0            13.680\n",
       "1             0.000\n",
       "2            14.400\n",
       "3             0.000\n",
       "4             0.000\n",
       "            ...    \n",
       "596083    47668.337\n",
       "596084    41720.571\n",
       "596085    23464.794\n",
       "596086     8098.187\n",
       "596087     2451.798\n",
       "Name: 발전량 , Length: 596088, dtype: float64"
      ]
     },
     "execution_count": 11,
     "metadata": {},
     "output_type": "execute_result"
    }
   ],
   "source": [
    "power_df['발전량 ']"
   ]
  },
  {
   "cell_type": "code",
   "execution_count": 18,
   "metadata": {},
   "outputs": [
    {
     "data": {
      "text/html": [
       "<div>\n",
       "<style scoped>\n",
       "    .dataframe tbody tr th:only-of-type {\n",
       "        vertical-align: middle;\n",
       "    }\n",
       "\n",
       "    .dataframe tbody tr th {\n",
       "        vertical-align: top;\n",
       "    }\n",
       "\n",
       "    .dataframe thead th {\n",
       "        text-align: right;\n",
       "    }\n",
       "</style>\n",
       "<table border=\"1\" class=\"dataframe\">\n",
       "  <thead>\n",
       "    <tr style=\"text-align: right;\">\n",
       "      <th></th>\n",
       "      <th>지역</th>\n",
       "      <th>거래시간</th>\n",
       "      <th>거래일자</th>\n",
       "      <th>발전량</th>\n",
       "    </tr>\n",
       "  </thead>\n",
       "  <tbody>\n",
       "    <tr>\n",
       "      <th>0</th>\n",
       "      <td>강원도</td>\n",
       "      <td>1</td>\n",
       "      <td>2018-01-01</td>\n",
       "      <td>13.680</td>\n",
       "    </tr>\n",
       "    <tr>\n",
       "      <th>1</th>\n",
       "      <td>강원도</td>\n",
       "      <td>1</td>\n",
       "      <td>2018-01-02</td>\n",
       "      <td>13.680</td>\n",
       "    </tr>\n",
       "    <tr>\n",
       "      <th>2</th>\n",
       "      <td>강원도</td>\n",
       "      <td>1</td>\n",
       "      <td>2018-01-03</td>\n",
       "      <td>13.680</td>\n",
       "    </tr>\n",
       "    <tr>\n",
       "      <th>3</th>\n",
       "      <td>강원도</td>\n",
       "      <td>1</td>\n",
       "      <td>2018-01-04</td>\n",
       "      <td>13.680</td>\n",
       "    </tr>\n",
       "    <tr>\n",
       "      <th>4</th>\n",
       "      <td>강원도</td>\n",
       "      <td>1</td>\n",
       "      <td>2018-01-05</td>\n",
       "      <td>0.000</td>\n",
       "    </tr>\n",
       "    <tr>\n",
       "      <th>...</th>\n",
       "      <td>...</td>\n",
       "      <td>...</td>\n",
       "      <td>...</td>\n",
       "      <td>...</td>\n",
       "    </tr>\n",
       "    <tr>\n",
       "      <th>596083</th>\n",
       "      <td>충청북도</td>\n",
       "      <td>24</td>\n",
       "      <td>2021-12-27</td>\n",
       "      <td>815.208</td>\n",
       "    </tr>\n",
       "    <tr>\n",
       "      <th>596084</th>\n",
       "      <td>충청북도</td>\n",
       "      <td>24</td>\n",
       "      <td>2021-12-28</td>\n",
       "      <td>0.720</td>\n",
       "    </tr>\n",
       "    <tr>\n",
       "      <th>596085</th>\n",
       "      <td>충청북도</td>\n",
       "      <td>24</td>\n",
       "      <td>2021-12-29</td>\n",
       "      <td>0.240</td>\n",
       "    </tr>\n",
       "    <tr>\n",
       "      <th>596086</th>\n",
       "      <td>충청북도</td>\n",
       "      <td>24</td>\n",
       "      <td>2021-12-30</td>\n",
       "      <td>1796.576</td>\n",
       "    </tr>\n",
       "    <tr>\n",
       "      <th>596087</th>\n",
       "      <td>충청북도</td>\n",
       "      <td>24</td>\n",
       "      <td>2021-12-31</td>\n",
       "      <td>2451.798</td>\n",
       "    </tr>\n",
       "  </tbody>\n",
       "</table>\n",
       "<p>596088 rows × 4 columns</p>\n",
       "</div>"
      ],
      "text/plain": [
       "          지역  거래시간        거래일자      발전량 \n",
       "0        강원도     1  2018-01-01    13.680\n",
       "1        강원도     1  2018-01-02    13.680\n",
       "2        강원도     1  2018-01-03    13.680\n",
       "3        강원도     1  2018-01-04    13.680\n",
       "4        강원도     1  2018-01-05     0.000\n",
       "...      ...   ...         ...       ...\n",
       "596083  충청북도    24  2021-12-27   815.208\n",
       "596084  충청북도    24  2021-12-28     0.720\n",
       "596085  충청북도    24  2021-12-29     0.240\n",
       "596086  충청북도    24  2021-12-30  1796.576\n",
       "596087  충청북도    24  2021-12-31  2451.798\n",
       "\n",
       "[596088 rows x 4 columns]"
      ]
     },
     "execution_count": 18,
     "metadata": {},
     "output_type": "execute_result"
    }
   ],
   "source": [
    "df =power_df.groupby(['지역', '거래시간','거래일자'], as_index=False)['발전량 '].mean()\n",
    "df"
   ]
  },
  {
   "cell_type": "code",
   "execution_count": 19,
   "metadata": {},
   "outputs": [],
   "source": [
    "df.to_csv('sun_data.csv', encoding= 'cp949')"
   ]
  },
  {
   "cell_type": "code",
   "execution_count": 20,
   "metadata": {},
   "outputs": [
    {
     "data": {
      "text/html": [
       "<div>\n",
       "<style scoped>\n",
       "    .dataframe tbody tr th:only-of-type {\n",
       "        vertical-align: middle;\n",
       "    }\n",
       "\n",
       "    .dataframe tbody tr th {\n",
       "        vertical-align: top;\n",
       "    }\n",
       "\n",
       "    .dataframe thead th {\n",
       "        text-align: right;\n",
       "    }\n",
       "</style>\n",
       "<table border=\"1\" class=\"dataframe\">\n",
       "  <thead>\n",
       "    <tr style=\"text-align: right;\">\n",
       "      <th></th>\n",
       "      <th>거래일자</th>\n",
       "      <th>거래시간</th>\n",
       "      <th>지역</th>\n",
       "      <th>발전량</th>\n",
       "    </tr>\n",
       "  </thead>\n",
       "  <tbody>\n",
       "    <tr>\n",
       "      <th>0</th>\n",
       "      <td>2018-01-01</td>\n",
       "      <td>1</td>\n",
       "      <td>강원도</td>\n",
       "      <td>143991</td>\n",
       "    </tr>\n",
       "    <tr>\n",
       "      <th>1</th>\n",
       "      <td>2018-01-01</td>\n",
       "      <td>2</td>\n",
       "      <td>강원도</td>\n",
       "      <td>142730</td>\n",
       "    </tr>\n",
       "  </tbody>\n",
       "</table>\n",
       "</div>"
      ],
      "text/plain": [
       "         거래일자  거래시간   지역     발전량\n",
       "0  2018-01-01     1  강원도  143991\n",
       "1  2018-01-01     2  강원도  142730"
      ]
     },
     "execution_count": 20,
     "metadata": {},
     "output_type": "execute_result"
    }
   ],
   "source": [
    "wind_df  = pd.read_csv('data/한국전력거래소_시간별 풍력발전량_20211231.csv', encoding='cp949')\n",
    "wind_df.head(2)"
   ]
  },
  {
   "cell_type": "code",
   "execution_count": 22,
   "metadata": {},
   "outputs": [
    {
     "data": {
      "text/html": [
       "<div>\n",
       "<style scoped>\n",
       "    .dataframe tbody tr th:only-of-type {\n",
       "        vertical-align: middle;\n",
       "    }\n",
       "\n",
       "    .dataframe tbody tr th {\n",
       "        vertical-align: top;\n",
       "    }\n",
       "\n",
       "    .dataframe thead th {\n",
       "        text-align: right;\n",
       "    }\n",
       "</style>\n",
       "<table border=\"1\" class=\"dataframe\">\n",
       "  <thead>\n",
       "    <tr style=\"text-align: right;\">\n",
       "      <th></th>\n",
       "      <th>지역</th>\n",
       "      <th>거래시간</th>\n",
       "      <th>거래일자</th>\n",
       "      <th>발전량</th>\n",
       "    </tr>\n",
       "  </thead>\n",
       "  <tbody>\n",
       "    <tr>\n",
       "      <th>0</th>\n",
       "      <td>강원도</td>\n",
       "      <td>1</td>\n",
       "      <td>2018-01-01</td>\n",
       "      <td>143991.0</td>\n",
       "    </tr>\n",
       "    <tr>\n",
       "      <th>1</th>\n",
       "      <td>강원도</td>\n",
       "      <td>1</td>\n",
       "      <td>2018-01-02</td>\n",
       "      <td>171907.0</td>\n",
       "    </tr>\n",
       "    <tr>\n",
       "      <th>2</th>\n",
       "      <td>강원도</td>\n",
       "      <td>1</td>\n",
       "      <td>2018-01-03</td>\n",
       "      <td>48679.0</td>\n",
       "    </tr>\n",
       "    <tr>\n",
       "      <th>3</th>\n",
       "      <td>강원도</td>\n",
       "      <td>1</td>\n",
       "      <td>2018-01-04</td>\n",
       "      <td>42158.0</td>\n",
       "    </tr>\n",
       "    <tr>\n",
       "      <th>4</th>\n",
       "      <td>강원도</td>\n",
       "      <td>1</td>\n",
       "      <td>2018-01-05</td>\n",
       "      <td>5623.0</td>\n",
       "    </tr>\n",
       "    <tr>\n",
       "      <th>...</th>\n",
       "      <td>...</td>\n",
       "      <td>...</td>\n",
       "      <td>...</td>\n",
       "      <td>...</td>\n",
       "    </tr>\n",
       "    <tr>\n",
       "      <th>385699</th>\n",
       "      <td>충청남도</td>\n",
       "      <td>24</td>\n",
       "      <td>2021-12-27</td>\n",
       "      <td>0.0</td>\n",
       "    </tr>\n",
       "    <tr>\n",
       "      <th>385700</th>\n",
       "      <td>충청남도</td>\n",
       "      <td>24</td>\n",
       "      <td>2021-12-28</td>\n",
       "      <td>108.0</td>\n",
       "    </tr>\n",
       "    <tr>\n",
       "      <th>385701</th>\n",
       "      <td>충청남도</td>\n",
       "      <td>24</td>\n",
       "      <td>2021-12-29</td>\n",
       "      <td>1966.0</td>\n",
       "    </tr>\n",
       "    <tr>\n",
       "      <th>385702</th>\n",
       "      <td>충청남도</td>\n",
       "      <td>24</td>\n",
       "      <td>2021-12-30</td>\n",
       "      <td>1276.0</td>\n",
       "    </tr>\n",
       "    <tr>\n",
       "      <th>385703</th>\n",
       "      <td>충청남도</td>\n",
       "      <td>24</td>\n",
       "      <td>2021-12-31</td>\n",
       "      <td>88.0</td>\n",
       "    </tr>\n",
       "  </tbody>\n",
       "</table>\n",
       "<p>385704 rows × 4 columns</p>\n",
       "</div>"
      ],
      "text/plain": [
       "          지역  거래시간        거래일자       발전량\n",
       "0        강원도     1  2018-01-01  143991.0\n",
       "1        강원도     1  2018-01-02  171907.0\n",
       "2        강원도     1  2018-01-03   48679.0\n",
       "3        강원도     1  2018-01-04   42158.0\n",
       "4        강원도     1  2018-01-05    5623.0\n",
       "...      ...   ...         ...       ...\n",
       "385699  충청남도    24  2021-12-27       0.0\n",
       "385700  충청남도    24  2021-12-28     108.0\n",
       "385701  충청남도    24  2021-12-29    1966.0\n",
       "385702  충청남도    24  2021-12-30    1276.0\n",
       "385703  충청남도    24  2021-12-31      88.0\n",
       "\n",
       "[385704 rows x 4 columns]"
      ]
     },
     "execution_count": 22,
     "metadata": {},
     "output_type": "execute_result"
    }
   ],
   "source": [
    "df =wind_df.groupby(['지역', '거래시간','거래일자'], as_index=False)['발전량'].mean()\n",
    "df"
   ]
  },
  {
   "cell_type": "code",
   "execution_count": 23,
   "metadata": {},
   "outputs": [],
   "source": [
    "df.to_csv('wind_data.csv', encoding= 'cp949')"
   ]
  },
  {
   "cell_type": "code",
   "execution_count": null,
   "metadata": {},
   "outputs": [],
   "source": []
  }
 ],
 "metadata": {
  "kernelspec": {
   "display_name": "base",
   "language": "python",
   "name": "python3"
  },
  "language_info": {
   "codemirror_mode": {
    "name": "ipython",
    "version": 3
   },
   "file_extension": ".py",
   "mimetype": "text/x-python",
   "name": "python",
   "nbconvert_exporter": "python",
   "pygments_lexer": "ipython3",
   "version": "3.9.16"
  },
  "orig_nbformat": 4
 },
 "nbformat": 4,
 "nbformat_minor": 2
}
